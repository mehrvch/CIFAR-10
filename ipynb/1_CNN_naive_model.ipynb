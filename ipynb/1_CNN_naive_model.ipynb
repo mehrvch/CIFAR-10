{
 "cells": [
  {
   "cell_type": "code",
   "execution_count": 2,
   "metadata": {
    "collapsed": true
   },
   "outputs": [],
   "source": [
    "import os\n",
    "os.chdir('/notebooks/src/CIFAR-10/')"
   ]
  },
  {
   "cell_type": "code",
   "execution_count": 3,
   "metadata": {},
   "outputs": [
    {
     "name": "stderr",
     "output_type": "stream",
     "text": [
      "Using TensorFlow backend.\n"
     ]
    }
   ],
   "source": [
    "import keras\n",
    "from keras.layers import Input, Conv2D, MaxPool2D, Dropout, Activation, Dense, Flatten\n",
    "from keras.models import Sequential\n",
    "from keras.activations import relu, softmax\n",
    "from keras.layers.advanced_activations import LeakyReLU\n",
    "from keras import layers as l\n",
    "from lib.load_images import load_data"
   ]
  },
  {
   "cell_type": "code",
   "execution_count": 4,
   "metadata": {
    "collapsed": true
   },
   "outputs": [],
   "source": [
    "(X_train, y_train), (X_test, y_test) = load_data()"
   ]
  },
  {
   "cell_type": "code",
   "execution_count": 5,
   "metadata": {},
   "outputs": [
    {
     "data": {
      "text/plain": [
       "(50000, 32, 32, 3)"
      ]
     },
     "execution_count": 5,
     "metadata": {},
     "output_type": "execute_result"
    }
   ],
   "source": [
    "X_train.shape"
   ]
  },
  {
   "cell_type": "code",
   "execution_count": 6,
   "metadata": {
    "collapsed": true
   },
   "outputs": [],
   "source": [
    "batch_size = 32\n",
    "num_classes = 10\n",
    "epochs = 100\n",
    "save_dir = os.path.join(os.getcwd(), 'saved_models')\n",
    "model_name = 'cnn_1.h5'"
   ]
  },
  {
   "cell_type": "code",
   "execution_count": 7,
   "metadata": {
    "collapsed": true
   },
   "outputs": [],
   "source": [
    "# cnn = keras.models.load_model('./saved_models/cnn_1.h5')"
   ]
  },
  {
   "cell_type": "code",
   "execution_count": 8,
   "metadata": {
    "collapsed": true
   },
   "outputs": [],
   "source": [
    "cnn = Sequential([\n",
    "    Conv2D(2, kernel_size=(3, 3),\n",
    "                 activation='relu',\n",
    "                 input_shape=(32,32,3)),\n",
    "    Conv2D(16, (3, 3), activation='relu'),\n",
    "    Dropout(.25),\n",
    "    MaxPool2D(),\n",
    "    Flatten(),\n",
    "    Dense(128, activation='relu'),\n",
    "    Dropout(.25),\n",
    "    Dense(10, activation='softmax')\n",
    "])"
   ]
  },
  {
   "cell_type": "code",
   "execution_count": 9,
   "metadata": {
    "scrolled": false
   },
   "outputs": [
    {
     "name": "stdout",
     "output_type": "stream",
     "text": [
      "_________________________________________________________________\n",
      "Layer (type)                 Output Shape              Param #   \n",
      "=================================================================\n",
      "conv2d_1 (Conv2D)            (None, 30, 30, 2)         56        \n",
      "_________________________________________________________________\n",
      "conv2d_2 (Conv2D)            (None, 28, 28, 16)        304       \n",
      "_________________________________________________________________\n",
      "dropout_1 (Dropout)          (None, 28, 28, 16)        0         \n",
      "_________________________________________________________________\n",
      "max_pooling2d_1 (MaxPooling2 (None, 14, 14, 16)        0         \n",
      "_________________________________________________________________\n",
      "flatten_1 (Flatten)          (None, 3136)              0         \n",
      "_________________________________________________________________\n",
      "dense_1 (Dense)              (None, 128)               401536    \n",
      "_________________________________________________________________\n",
      "dropout_2 (Dropout)          (None, 128)               0         \n",
      "_________________________________________________________________\n",
      "dense_2 (Dense)              (None, 10)                1290      \n",
      "=================================================================\n",
      "Total params: 403,186\n",
      "Trainable params: 403,186\n",
      "Non-trainable params: 0\n",
      "_________________________________________________________________\n"
     ]
    }
   ],
   "source": [
    "cnn.summary()"
   ]
  },
  {
   "cell_type": "code",
   "execution_count": 10,
   "metadata": {
    "collapsed": true
   },
   "outputs": [],
   "source": [
    "cnn.compile(loss=keras.losses.categorical_crossentropy,\n",
    "              optimizer=keras.optimizers.Adadelta(),\n",
    "              metrics=['accuracy'])"
   ]
  },
  {
   "cell_type": "code",
   "execution_count": 11,
   "metadata": {
    "scrolled": false
   },
   "outputs": [
    {
     "name": "stdout",
     "output_type": "stream",
     "text": [
      "Train on 35000 samples, validate on 15000 samples\n",
      "Epoch 1/100\n",
      "35000/35000 [==============================] - 43s - loss: 1.6698 - acc: 0.4015 - val_loss: 1.4387 - val_acc: 0.5009\n",
      "Epoch 2/100\n",
      "35000/35000 [==============================] - 43s - loss: 1.3481 - acc: 0.5250 - val_loss: 1.3289 - val_acc: 0.5395\n",
      "Epoch 3/100\n",
      "35000/35000 [==============================] - 43s - loss: 1.2530 - acc: 0.5612 - val_loss: 1.2622 - val_acc: 0.5590\n",
      "Epoch 4/100\n",
      "35000/35000 [==============================] - 42s - loss: 1.1825 - acc: 0.5856 - val_loss: 1.2199 - val_acc: 0.5789\n",
      "Epoch 5/100\n",
      "35000/35000 [==============================] - 42s - loss: 1.1326 - acc: 0.6047 - val_loss: 1.1933 - val_acc: 0.5875\n",
      "Epoch 6/100\n",
      "35000/35000 [==============================] - 42s - loss: 1.0800 - acc: 0.6230 - val_loss: 1.1693 - val_acc: 0.6009\n",
      "Epoch 7/100\n",
      "35000/35000 [==============================] - 42s - loss: 1.0370 - acc: 0.6378 - val_loss: 1.1560 - val_acc: 0.6045\n",
      "Epoch 8/100\n",
      "35000/35000 [==============================] - 42s - loss: 0.9961 - acc: 0.6545 - val_loss: 1.1376 - val_acc: 0.6074\n",
      "Epoch 9/100\n",
      "35000/35000 [==============================] - 42s - loss: 0.9572 - acc: 0.6679 - val_loss: 1.1196 - val_acc: 0.6155\n",
      "Epoch 10/100\n",
      "35000/35000 [==============================] - 43s - loss: 0.9296 - acc: 0.6777 - val_loss: 1.1118 - val_acc: 0.6141\n",
      "Epoch 11/100\n",
      "35000/35000 [==============================] - 42s - loss: 0.8900 - acc: 0.6929 - val_loss: 1.0939 - val_acc: 0.6223\n",
      "Epoch 12/100\n",
      "35000/35000 [==============================] - 42s - loss: 0.8569 - acc: 0.7021 - val_loss: 1.0982 - val_acc: 0.6227\n",
      "Epoch 13/100\n",
      "35000/35000 [==============================] - 42s - loss: 0.8294 - acc: 0.7129 - val_loss: 1.0907 - val_acc: 0.6265\n",
      "Epoch 14/100\n",
      "35000/35000 [==============================] - 42s - loss: 0.8032 - acc: 0.7205 - val_loss: 1.1149 - val_acc: 0.6169\n",
      "Epoch 15/100\n",
      "35000/35000 [==============================] - 42s - loss: 0.7763 - acc: 0.7300 - val_loss: 1.1218 - val_acc: 0.6175\n",
      "Epoch 16/100\n",
      "35000/35000 [==============================] - 42s - loss: 0.7425 - acc: 0.7431 - val_loss: 1.0816 - val_acc: 0.6333\n",
      "Epoch 17/100\n",
      "35000/35000 [==============================] - 42s - loss: 0.7217 - acc: 0.7519 - val_loss: 1.0858 - val_acc: 0.6343\n",
      "Epoch 18/100\n",
      "35000/35000 [==============================] - 42s - loss: 0.7013 - acc: 0.7556 - val_loss: 1.0864 - val_acc: 0.6295\n",
      "Epoch 19/100\n",
      "35000/35000 [==============================] - 42s - loss: 0.6759 - acc: 0.7681 - val_loss: 1.0835 - val_acc: 0.6339\n",
      "Epoch 20/100\n",
      "35000/35000 [==============================] - 42s - loss: 0.6541 - acc: 0.7757 - val_loss: 1.1080 - val_acc: 0.6285\n",
      "Epoch 21/100\n",
      "35000/35000 [==============================] - 43s - loss: 0.6356 - acc: 0.7800 - val_loss: 1.1060 - val_acc: 0.6300\n",
      "Epoch 22/100\n",
      "35000/35000 [==============================] - 43s - loss: 0.6135 - acc: 0.7874 - val_loss: 1.1024 - val_acc: 0.6313\n",
      "Epoch 23/100\n",
      "35000/35000 [==============================] - 42s - loss: 0.5990 - acc: 0.7940 - val_loss: 1.1141 - val_acc: 0.6308\n",
      "Epoch 24/100\n",
      "35000/35000 [==============================] - 43s - loss: 0.5810 - acc: 0.8020 - val_loss: 1.1190 - val_acc: 0.6352\n",
      "Epoch 25/100\n",
      "35000/35000 [==============================] - 42s - loss: 0.5614 - acc: 0.8076 - val_loss: 1.1318 - val_acc: 0.6317\n",
      "Epoch 26/100\n",
      "35000/35000 [==============================] - 44s - loss: 0.5476 - acc: 0.8113 - val_loss: 1.1472 - val_acc: 0.6280\n",
      "Epoch 27/100\n",
      "35000/35000 [==============================] - 44s - loss: 0.5289 - acc: 0.8175 - val_loss: 1.1470 - val_acc: 0.6340\n",
      "Epoch 28/100\n",
      "35000/35000 [==============================] - 42s - loss: 0.5150 - acc: 0.8216 - val_loss: 1.1605 - val_acc: 0.6303\n",
      "Epoch 29/100\n",
      "35000/35000 [==============================] - 42s - loss: 0.5048 - acc: 0.8248 - val_loss: 1.1845 - val_acc: 0.6298\n",
      "Epoch 30/100\n",
      "35000/35000 [==============================] - 43s - loss: 0.4915 - acc: 0.8299 - val_loss: 1.1851 - val_acc: 0.6231\n",
      "Epoch 31/100\n",
      "35000/35000 [==============================] - 43s - loss: 0.4737 - acc: 0.8351 - val_loss: 1.1812 - val_acc: 0.6286\n",
      "Epoch 32/100\n",
      "35000/35000 [==============================] - 42s - loss: 0.4665 - acc: 0.8386 - val_loss: 1.1958 - val_acc: 0.6291\n",
      "Epoch 33/100\n",
      "35000/35000 [==============================] - 44s - loss: 0.4535 - acc: 0.8447 - val_loss: 1.2016 - val_acc: 0.6255\n",
      "Epoch 34/100\n",
      "35000/35000 [==============================] - 43s - loss: 0.4493 - acc: 0.8435 - val_loss: 1.2336 - val_acc: 0.6304\n",
      "Epoch 35/100\n",
      "35000/35000 [==============================] - 42s - loss: 0.4376 - acc: 0.8466 - val_loss: 1.2391 - val_acc: 0.6273\n",
      "Epoch 36/100\n",
      "35000/35000 [==============================] - 70s - loss: 0.4300 - acc: 0.8506 - val_loss: 1.2610 - val_acc: 0.6237\n",
      "Epoch 37/100\n",
      "35000/35000 [==============================] - 77s - loss: 0.4173 - acc: 0.8525 - val_loss: 1.2854 - val_acc: 0.6186\n",
      "Epoch 38/100\n",
      "35000/35000 [==============================] - 77s - loss: 0.4078 - acc: 0.8579 - val_loss: 1.2547 - val_acc: 0.6272\n",
      "Epoch 39/100\n",
      "35000/35000 [==============================] - 64s - loss: 0.4055 - acc: 0.8590 - val_loss: 1.2856 - val_acc: 0.6243\n",
      "Epoch 40/100\n",
      "35000/35000 [==============================] - 43s - loss: 0.3935 - acc: 0.8642 - val_loss: 1.2609 - val_acc: 0.6307\n",
      "Epoch 41/100\n",
      "35000/35000 [==============================] - 43s - loss: 0.3844 - acc: 0.8678 - val_loss: 1.2989 - val_acc: 0.6275\n",
      "Epoch 42/100\n",
      "35000/35000 [==============================] - 74s - loss: 0.3815 - acc: 0.8682 - val_loss: 1.3486 - val_acc: 0.6262\n",
      "Epoch 43/100\n",
      "35000/35000 [==============================] - 77s - loss: 0.3734 - acc: 0.8729 - val_loss: 1.3133 - val_acc: 0.6229\n",
      "Epoch 44/100\n",
      "35000/35000 [==============================] - 77s - loss: 0.3661 - acc: 0.8738 - val_loss: 1.3531 - val_acc: 0.6259\n",
      "Epoch 45/100\n",
      "35000/35000 [==============================] - 60s - loss: 0.3685 - acc: 0.8733 - val_loss: 1.3904 - val_acc: 0.6267\n",
      "Epoch 46/100\n",
      "35000/35000 [==============================] - 43s - loss: 0.3662 - acc: 0.8736 - val_loss: 1.3536 - val_acc: 0.6265\n",
      "Epoch 47/100\n",
      "35000/35000 [==============================] - 42s - loss: 0.3508 - acc: 0.8784 - val_loss: 1.3231 - val_acc: 0.6210\n",
      "Epoch 48/100\n",
      "35000/35000 [==============================] - 43s - loss: 0.3458 - acc: 0.8815 - val_loss: 1.3491 - val_acc: 0.6237\n",
      "Epoch 49/100\n",
      "35000/35000 [==============================] - 43s - loss: 0.3444 - acc: 0.8813 - val_loss: 1.4058 - val_acc: 0.6237\n",
      "Epoch 50/100\n",
      "35000/35000 [==============================] - 42s - loss: 0.3388 - acc: 0.8841 - val_loss: 1.3853 - val_acc: 0.6252\n",
      "Epoch 51/100\n",
      "35000/35000 [==============================] - 43s - loss: 0.3347 - acc: 0.8851 - val_loss: 1.3894 - val_acc: 0.6266\n",
      "Epoch 52/100\n",
      "35000/35000 [==============================] - 43s - loss: 0.3340 - acc: 0.8853 - val_loss: 1.4052 - val_acc: 0.6291\n",
      "Epoch 53/100\n",
      "35000/35000 [==============================] - 42s - loss: 0.3271 - acc: 0.8880 - val_loss: 1.3876 - val_acc: 0.6215\n",
      "Epoch 54/100\n",
      "35000/35000 [==============================] - 42s - loss: 0.3197 - acc: 0.8903 - val_loss: 1.4064 - val_acc: 0.6207\n",
      "Epoch 55/100\n",
      "35000/35000 [==============================] - 44s - loss: 0.3181 - acc: 0.8904 - val_loss: 1.4349 - val_acc: 0.6248\n",
      "Epoch 56/100\n",
      "35000/35000 [==============================] - 43s - loss: 0.3170 - acc: 0.8901 - val_loss: 1.4681 - val_acc: 0.6227\n",
      "Epoch 57/100\n",
      "35000/35000 [==============================] - 43s - loss: 0.3123 - acc: 0.8942 - val_loss: 1.5030 - val_acc: 0.6291\n",
      "Epoch 58/100\n",
      "35000/35000 [==============================] - 43s - loss: 0.3084 - acc: 0.8949 - val_loss: 1.4279 - val_acc: 0.6198\n",
      "Epoch 59/100\n",
      "35000/35000 [==============================] - 43s - loss: 0.3066 - acc: 0.8941 - val_loss: 1.4498 - val_acc: 0.6264\n",
      "Epoch 60/100\n",
      "35000/35000 [==============================] - 43s - loss: 0.3055 - acc: 0.8943 - val_loss: 1.4957 - val_acc: 0.6242\n",
      "Epoch 61/100\n",
      "35000/35000 [==============================] - 43s - loss: 0.3036 - acc: 0.8959 - val_loss: 1.4548 - val_acc: 0.6198\n",
      "Epoch 62/100\n",
      "35000/35000 [==============================] - 43s - loss: 0.2916 - acc: 0.9013 - val_loss: 1.4570 - val_acc: 0.6239\n",
      "Epoch 63/100\n",
      "35000/35000 [==============================] - 43s - loss: 0.3009 - acc: 0.8982 - val_loss: 1.4927 - val_acc: 0.6240\n",
      "Epoch 64/100\n",
      "35000/35000 [==============================] - 43s - loss: 0.2909 - acc: 0.9017 - val_loss: 1.5448 - val_acc: 0.6204\n",
      "Epoch 65/100\n",
      "35000/35000 [==============================] - 43s - loss: 0.2892 - acc: 0.9018 - val_loss: 1.5058 - val_acc: 0.6211\n",
      "Epoch 66/100\n",
      "35000/35000 [==============================] - 43s - loss: 0.2935 - acc: 0.8992 - val_loss: 1.5289 - val_acc: 0.6207\n",
      "Epoch 67/100\n",
      "35000/35000 [==============================] - 43s - loss: 0.2885 - acc: 0.9030 - val_loss: 1.6101 - val_acc: 0.6268\n",
      "Epoch 68/100\n",
      "35000/35000 [==============================] - 43s - loss: 0.2839 - acc: 0.9023 - val_loss: 1.5428 - val_acc: 0.6255\n",
      "Epoch 69/100\n",
      "35000/35000 [==============================] - 43s - loss: 0.2842 - acc: 0.9033 - val_loss: 1.5179 - val_acc: 0.6217\n",
      "Epoch 70/100\n",
      "35000/35000 [==============================] - 42s - loss: 0.2840 - acc: 0.9039 - val_loss: 1.5185 - val_acc: 0.6191\n",
      "Epoch 71/100\n",
      "35000/35000 [==============================] - 42s - loss: 0.2854 - acc: 0.9013 - val_loss: 1.5884 - val_acc: 0.6253\n",
      "Epoch 72/100\n",
      "35000/35000 [==============================] - 43s - loss: 0.2759 - acc: 0.9059 - val_loss: 1.5685 - val_acc: 0.6233\n",
      "Epoch 73/100\n",
      "35000/35000 [==============================] - 43s - loss: 0.2754 - acc: 0.9049 - val_loss: 1.5389 - val_acc: 0.6158\n",
      "Epoch 74/100\n",
      "35000/35000 [==============================] - 42s - loss: 0.2697 - acc: 0.9088 - val_loss: 1.6203 - val_acc: 0.6213\n",
      "Epoch 75/100\n",
      "35000/35000 [==============================] - 42s - loss: 0.2717 - acc: 0.9077 - val_loss: 1.5599 - val_acc: 0.6215\n",
      "Epoch 76/100\n",
      "35000/35000 [==============================] - 42s - loss: 0.2796 - acc: 0.9050 - val_loss: 1.6218 - val_acc: 0.6184\n",
      "Epoch 77/100\n",
      "35000/35000 [==============================] - 43s - loss: 0.2712 - acc: 0.9080 - val_loss: 1.5467 - val_acc: 0.6174\n",
      "Epoch 78/100\n",
      "35000/35000 [==============================] - 42s - loss: 0.2694 - acc: 0.9080 - val_loss: 1.6284 - val_acc: 0.6201\n",
      "Epoch 79/100\n",
      "35000/35000 [==============================] - 42s - loss: 0.2729 - acc: 0.9077 - val_loss: 1.5571 - val_acc: 0.6222\n",
      "Epoch 80/100\n",
      "35000/35000 [==============================] - 42s - loss: 0.2677 - acc: 0.9117 - val_loss: 1.6803 - val_acc: 0.6201\n",
      "Epoch 81/100\n",
      "35000/35000 [==============================] - 43s - loss: 0.2671 - acc: 0.9112 - val_loss: 1.6423 - val_acc: 0.6207\n",
      "Epoch 82/100\n",
      "35000/35000 [==============================] - 43s - loss: 0.2611 - acc: 0.9128 - val_loss: 1.6042 - val_acc: 0.6206\n",
      "Epoch 83/100\n",
      "35000/35000 [==============================] - 42s - loss: 0.2655 - acc: 0.9120 - val_loss: 1.5790 - val_acc: 0.6169\n",
      "Epoch 84/100\n",
      "35000/35000 [==============================] - 43s - loss: 0.2578 - acc: 0.9135 - val_loss: 1.6357 - val_acc: 0.6215\n",
      "Epoch 85/100\n",
      "35000/35000 [==============================] - 42s - loss: 0.2541 - acc: 0.9145 - val_loss: 1.6164 - val_acc: 0.6175\n",
      "Epoch 86/100\n",
      "35000/35000 [==============================] - 44s - loss: 0.2541 - acc: 0.9139 - val_loss: 1.5964 - val_acc: 0.6169\n",
      "Epoch 87/100\n",
      "35000/35000 [==============================] - 42s - loss: 0.2633 - acc: 0.9131 - val_loss: 1.7644 - val_acc: 0.6230\n",
      "Epoch 88/100\n",
      "35000/35000 [==============================] - 43s - loss: 0.2641 - acc: 0.9114 - val_loss: 1.5793 - val_acc: 0.6195\n",
      "Epoch 89/100\n",
      "35000/35000 [==============================] - 43s - loss: 0.2612 - acc: 0.9114 - val_loss: 1.6818 - val_acc: 0.6209\n",
      "Epoch 90/100\n",
      "35000/35000 [==============================] - 53s - loss: 0.2545 - acc: 0.9143 - val_loss: 1.6378 - val_acc: 0.6234\n",
      "Epoch 91/100\n",
      "35000/35000 [==============================] - 74s - loss: 0.2545 - acc: 0.9127 - val_loss: 1.6574 - val_acc: 0.6201\n",
      "Epoch 92/100\n",
      "35000/35000 [==============================] - 94s - loss: 0.2548 - acc: 0.9138 - val_loss: 1.6787 - val_acc: 0.6215\n",
      "Epoch 93/100\n",
      "35000/35000 [==============================] - 103s - loss: 0.2634 - acc: 0.9126 - val_loss: 1.6330 - val_acc: 0.6177\n",
      "Epoch 94/100\n",
      "35000/35000 [==============================] - 103s - loss: 0.2537 - acc: 0.9158 - val_loss: 1.7383 - val_acc: 0.6247\n",
      "Epoch 95/100\n",
      "35000/35000 [==============================] - 104s - loss: 0.2559 - acc: 0.9140 - val_loss: 1.7066 - val_acc: 0.6233\n",
      "Epoch 96/100\n",
      "35000/35000 [==============================] - 103s - loss: 0.2541 - acc: 0.9158 - val_loss: 1.6182 - val_acc: 0.6189\n",
      "Epoch 97/100\n",
      "35000/35000 [==============================] - 85s - loss: 0.2527 - acc: 0.9162 - val_loss: 1.7038 - val_acc: 0.6219\n",
      "Epoch 98/100\n",
      "35000/35000 [==============================] - 71s - loss: 0.2541 - acc: 0.9152 - val_loss: 1.6247 - val_acc: 0.6145\n",
      "Epoch 99/100\n",
      "35000/35000 [==============================] - 87s - loss: 0.2515 - acc: 0.9160 - val_loss: 1.6587 - val_acc: 0.6159\n",
      "Epoch 100/100\n",
      "35000/35000 [==============================] - 88s - loss: 0.2552 - acc: 0.9151 - val_loss: 1.7200 - val_acc: 0.6203\n"
     ]
    }
   ],
   "source": [
    "history = cnn.fit(X_train, y_train,\n",
    "    batch_size=batch_size,\n",
    "    epochs=epochs,\n",
    "    validation_split=.3,\n",
    "    shuffle=True)"
   ]
  },
  {
   "cell_type": "code",
   "execution_count": null,
   "metadata": {
    "collapsed": true
   },
   "outputs": [],
   "source": [
    "# cnn = keras.models.load_model('./saved_models/cnn_1.h5')"
   ]
  },
  {
   "cell_type": "code",
   "execution_count": 12,
   "metadata": {
    "collapsed": true
   },
   "outputs": [],
   "source": [
    "import matplotlib.pyplot as plt\n",
    "def plot_model_history(model_history):\n",
    "    fig, axs = plt.subplots(1,2,figsize=(15,5))\n",
    "    # summarize history for accuracy\n",
    "    axs[0].plot(range(1,len(model_history.history['acc'])+1),model_history.history['acc'])\n",
    "    axs[0].plot(range(1,len(model_history.history['val_acc'])+1),model_history.history['val_acc'])\n",
    "    axs[0].set_title('Model Accuracy')\n",
    "    axs[0].set_ylabel('Accuracy')\n",
    "    axs[0].set_xlabel('Epoch')\n",
    "    axs[0].set_xticks(np.arange(1,len(model_history.history['acc'])+1),len(model_history.history['acc'])/10)\n",
    "    axs[0].legend(['train', 'val'], loc='best')\n",
    "    # summarize history for loss\n",
    "    axs[1].plot(range(1,len(model_history.history['loss'])+1),model_history.history['loss'])\n",
    "    axs[1].plot(range(1,len(model_history.history['val_loss'])+1),model_history.history['val_loss'])\n",
    "    axs[1].set_title('Model Loss')\n",
    "    axs[1].set_ylabel('Loss')\n",
    "    axs[1].set_xlabel('Epoch')\n",
    "    axs[1].set_xticks(np.arange(1,len(model_history.history['loss'])+1),len(model_history.history['loss'])/10)\n",
    "    axs[1].legend(['train', 'val'], loc='best')\n",
    "    plt.show()"
   ]
  },
  {
   "cell_type": "code",
   "execution_count": 13,
   "metadata": {
    "collapsed": true
   },
   "outputs": [],
   "source": [
    "import numpy as np\n",
    "def accuracy(test_x, test_y, model):\n",
    "    result = model.predict(test_x)\n",
    "    predicted_class = np.argmax(result, axis=1)\n",
    "    true_class = np.argmax(test_y, axis=1)\n",
    "    num_correct = np.sum(predicted_class == true_class) \n",
    "    accuracy = float(num_correct)/result.shape[0]\n",
    "    return (accuracy * 100)\n"
   ]
  },
  {
   "cell_type": "code",
   "execution_count": 15,
   "metadata": {},
   "outputs": [
    {
     "data": {
      "image/png": "[encoded data removed]",
      "text/plain": [
       "<matplotlib.figure.Figure at 0x7fe17b972710>"
      ]
     },
     "metadata": {},
     "output_type": "display_data"
    }
   ],
   "source": [
    "plot_model_history(history)"
   ]
  },
  {
   "cell_type": "code",
   "execution_count": 14,
   "metadata": {},
   "outputs": [
    {
     "data": {
      "text/plain": [
       "61.45"
      ]
     },
     "execution_count": 14,
     "metadata": {},
     "output_type": "execute_result"
    }
   ],
   "source": [
    "accuracy(X_test, y_test, cnn)"
   ]
  },
  {
   "cell_type": "code",
   "execution_count": 16,
   "metadata": {
    "collapsed": true
   },
   "outputs": [],
   "source": [
    "# Save model and weights\n",
    "if not os.path.isdir(save_dir):\n",
    "    os.makedirs(save_dir)\n",
    "model_path = os.path.join(save_dir, model_name)\n",
    "cnn.save(model_path)"
   ]
  },
  {
   "cell_type": "code",
   "execution_count": null,
   "metadata": {
    "collapsed": true
   },
   "outputs": [],
   "source": []
  }
 ],
 "metadata": {
  "kernelspec": {
   "display_name": "Python 3",
   "language": "python",
   "name": "python3"
  },
  "language_info": {
   "codemirror_mode": {
    "name": "ipython",
    "version": 3
   },
   "file_extension": ".py",
   "mimetype": "text/x-python",
   "name": "python",
   "nbconvert_exporter": "python",
   "pygments_lexer": "ipython3",
   "version": "3.6.2"
  }
 },
 "nbformat": 4,
 "nbformat_minor": 2
}
