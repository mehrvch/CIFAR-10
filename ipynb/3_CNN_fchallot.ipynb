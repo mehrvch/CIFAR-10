{
 "cells": [
  {
   "cell_type": "code",
   "execution_count": 1,
   "metadata": {
    "collapsed": true
   },
   "outputs": [],
   "source": [
    "import os\n",
    "os.chdir('/notebooks/src/CIFAR-10/')"
   ]
  },
  {
   "cell_type": "code",
   "execution_count": 2,
   "metadata": {},
   "outputs": [
    {
     "name": "stderr",
     "output_type": "stream",
     "text": [
      "Using TensorFlow backend.\n"
     ]
    }
   ],
   "source": [
    "import keras\n",
    "from keras.layers import Input, Convolution2D, Dense, Activation, Flatten,merge\n",
    "from keras.layers import  MaxPooling2D, Dropout, LocallyConnected2D\n",
    "from keras.models import Model, load_model\n",
    "from keras.optimizers import SGD\n",
    "from lib.load_images import load_data\n",
    "import numpy as np\n",
    "import pandas as pd\n",
    "\n",
    "\n",
    "from keras.layers import Input, Conv2D, MaxPool2D, Dropout, Activation, Dense, Flatten, merge\n",
    "from keras.models import Sequential, Model\n",
    "from keras.activations import relu, softmax\n",
    "from keras.layers.advanced_activations import LeakyReLU\n",
    "from keras import layers as l"
   ]
  },
  {
   "cell_type": "code",
   "execution_count": 3,
   "metadata": {
    "collapsed": true
   },
   "outputs": [],
   "source": [
    "(X_train, y_train), (X_test, y_test) = load_data()"
   ]
  },
  {
   "cell_type": "code",
   "execution_count": 4,
   "metadata": {},
   "outputs": [
    {
     "name": "stdout",
     "output_type": "stream",
     "text": [
      "('X_train shape:', (50000, 32, 32, 3))\n",
      "(50000, 'train samples')\n",
      "(10000, 'test samples')\n"
     ]
    }
   ],
   "source": [
    "print('X_train shape:', X_train.shape)\n",
    "print(X_train.shape[0], 'train samples')\n",
    "print(X_test.shape[0], 'test samples')\n"
   ]
  },
  {
   "cell_type": "code",
   "execution_count": 5,
   "metadata": {
    "collapsed": true
   },
   "outputs": [],
   "source": [
    "batch_size = 32\n",
    "num_classes = 10\n",
    "epochs = 200\n",
    "save_dir = os.path.join(os.getcwd(), 'saved_models')\n",
    "model_name = 'cnn_3.h5'"
   ]
  },
  {
   "cell_type": "code",
   "execution_count": 6,
   "metadata": {
    "collapsed": true
   },
   "outputs": [],
   "source": [
    "cnn = Sequential([\n",
    "    Conv2D(32, (3, 3), padding='same',\n",
    "                 input_shape=X_train.shape[1:]),\n",
    "    \n",
    "    Activation('relu'),\n",
    "    Conv2D(32, (3, 3)),\n",
    "    Activation('relu'),\n",
    "    MaxPooling2D(pool_size=(2, 2)),\n",
    "    Dropout(.25),\n",
    "    Conv2D(64, (3, 3), padding='same'),\n",
    "    Activation('relu'),\n",
    "    Conv2D(64, (3, 3)),\n",
    "    Activation('relu'),\n",
    "    MaxPooling2D(pool_size=(2, 2)),\n",
    "    Dropout(0.25),\n",
    "    Flatten(),\n",
    "    Dense(512),\n",
    "    Activation('relu'),\n",
    "    Dropout(0.5),\n",
    "    Dense(num_classes),\n",
    "    Activation('softmax')\n",
    "])\n",
    "\n",
    "# RMSprop optimizer\n",
    "opt = keras.optimizers.rmsprop(lr=0.0001, decay=1e-6)\n",
    "\n",
    "cnn.compile(loss=keras.losses.categorical_crossentropy,\n",
    "              optimizer=opt,\n",
    "              metrics=['accuracy'])"
   ]
  },
  {
   "cell_type": "code",
   "execution_count": 7,
   "metadata": {},
   "outputs": [
    {
     "name": "stdout",
     "output_type": "stream",
     "text": [
      "_________________________________________________________________\n",
      "Layer (type)                 Output Shape              Param #   \n",
      "=================================================================\n",
      "conv2d_1 (Conv2D)            (None, 32, 32, 32)        896       \n",
      "_________________________________________________________________\n",
      "activation_1 (Activation)    (None, 32, 32, 32)        0         \n",
      "_________________________________________________________________\n",
      "conv2d_2 (Conv2D)            (None, 30, 30, 32)        9248      \n",
      "_________________________________________________________________\n",
      "activation_2 (Activation)    (None, 30, 30, 32)        0         \n",
      "_________________________________________________________________\n",
      "max_pooling2d_1 (MaxPooling2 (None, 15, 15, 32)        0         \n",
      "_________________________________________________________________\n",
      "dropout_1 (Dropout)          (None, 15, 15, 32)        0         \n",
      "_________________________________________________________________\n",
      "conv2d_3 (Conv2D)            (None, 15, 15, 64)        18496     \n",
      "_________________________________________________________________\n",
      "activation_3 (Activation)    (None, 15, 15, 64)        0         \n",
      "_________________________________________________________________\n",
      "conv2d_4 (Conv2D)            (None, 13, 13, 64)        36928     \n",
      "_________________________________________________________________\n",
      "activation_4 (Activation)    (None, 13, 13, 64)        0         \n",
      "_________________________________________________________________\n",
      "max_pooling2d_2 (MaxPooling2 (None, 6, 6, 64)          0         \n",
      "_________________________________________________________________\n",
      "dropout_2 (Dropout)          (None, 6, 6, 64)          0         \n",
      "_________________________________________________________________\n",
      "flatten_1 (Flatten)          (None, 2304)              0         \n",
      "_________________________________________________________________\n",
      "dense_1 (Dense)              (None, 512)               1180160   \n",
      "_________________________________________________________________\n",
      "activation_5 (Activation)    (None, 512)               0         \n",
      "_________________________________________________________________\n",
      "dropout_3 (Dropout)          (None, 512)               0         \n",
      "_________________________________________________________________\n",
      "dense_2 (Dense)              (None, 10)                5130      \n",
      "_________________________________________________________________\n",
      "activation_6 (Activation)    (None, 10)                0         \n",
      "=================================================================\n",
      "Total params: 1,250,858\n",
      "Trainable params: 1,250,858\n",
      "Non-trainable params: 0\n",
      "_________________________________________________________________\n"
     ]
    }
   ],
   "source": [
    "cnn.summary()"
   ]
  },
  {
   "cell_type": "code",
   "execution_count": null,
   "metadata": {
    "collapsed": true
   },
   "outputs": [
    {
     "name": "stdout",
     "output_type": "stream",
     "text": [
      "Train on 35000 samples, validate on 15000 samples\n",
      "Epoch 1/200\n",
      "35000/35000 [==============================] - 414s - loss: 1.8959 - acc: 0.3069 - val_loss: 1.6598 - val_acc: 0.3959\n",
      "Epoch 2/200\n",
      "35000/35000 [==============================] - 414s - loss: 1.5999 - acc: 0.4177 - val_loss: 1.4656 - val_acc: 0.4723\n",
      "Epoch 3/200\n",
      "35000/35000 [==============================] - 411s - loss: 1.0553 - acc: 0.6299 - val_loss: 0.9972 - val_acc: 0.6530\n",
      "Epoch 10/200\n",
      "35000/35000 [==============================] - 414s - loss: 1.0257 - acc: 0.6401 - val_loss: 1.0020 - val_acc: 0.6554\n",
      "Epoch 11/200\n",
      "35000/35000 [==============================] - 413s - loss: 0.9323 - acc: 0.6726 - val_loss: 0.8958 - val_acc: 0.6907\n",
      "Epoch 14/200\n",
      "35000/35000 [==============================] - 412s - loss: 0.8638 - acc: 0.6986 - val_loss: 0.8379 - val_acc: 0.7103\n",
      "Epoch 17/200\n",
      "35000/35000 [==============================] - 411s - loss: 0.7355 - acc: 0.7465 - val_loss: 0.7608 - val_acc: 0.7392\n",
      "Epoch 27/200\n",
      "35000/35000 [==============================] - 415s - loss: 0.7292 - acc: 0.7495 - val_loss: 0.7358 - val_acc: 0.7485\n",
      "Epoch 28/200\n",
      "35000/35000 [==============================] - 410s - loss: 0.7235 - acc: 0.7515 - val_loss: 0.7383 - val_acc: 0.7496\n",
      "Epoch 29/200\n",
      "35000/35000 [==============================] - 410s - loss: 0.7159 - acc: 0.7551 - val_loss: 0.7277 - val_acc: 0.7596\n",
      "Epoch 30/200\n",
      "35000/35000 [==============================] - 411s - loss: 0.7049 - acc: 0.7605 - val_loss: 0.7157 - val_acc: 0.7614\n",
      "Epoch 31/200\n",
      "35000/35000 [==============================] - 413s - loss: 0.7031 - acc: 0.7581 - val_loss: 0.7201 - val_acc: 0.7560\n",
      "Epoch 32/200\n",
      "35000/35000 [==============================] - 413s - loss: 0.6955 - acc: 0.7619 - val_loss: 0.7284 - val_acc: 0.7525\n",
      "Epoch 33/200\n",
      "35000/35000 [==============================] - 624s - loss: 0.6903 - acc: 0.7632 - val_loss: 0.7310 - val_acc: 0.7531\n",
      "Epoch 34/200\n",
      "35000/35000 [==============================] - 627s - loss: 0.6739 - acc: 0.7694 - val_loss: 0.6894 - val_acc: 0.7659\n",
      "Epoch 38/200\n",
      "35000/35000 [==============================] - 629s - loss: 0.6755 - acc: 0.7708 - val_loss: 0.7440 - val_acc: 0.7511\n",
      "Epoch 39/200\n",
      "35000/35000 [==============================] - 633s - loss: 0.6684 - acc: 0.7719 - val_loss: 0.7519 - val_acc: 0.7509\n",
      "Epoch 40/200\n",
      "35000/35000 [==============================] - 627s - loss: 0.6694 - acc: 0.7730 - val_loss: 0.6835 - val_acc: 0.7673\n",
      "Epoch 41/200\n",
      "35000/35000 [==============================] - 626s - loss: 0.6602 - acc: 0.7757 - val_loss: 0.7070 - val_acc: 0.7617\n",
      "Epoch 42/200\n",
      "35000/35000 [==============================] - 627s - loss: 0.6656 - acc: 0.7753 - val_loss: 0.6903 - val_acc: 0.7707\n",
      "Epoch 43/200\n",
      "35000/35000 [==============================] - 628s - loss: 0.6559 - acc: 0.7776 - val_loss: 0.7004 - val_acc: 0.7664\n",
      "Epoch 44/200\n",
      "35000/35000 [==============================] - 627s - loss: 0.6535 - acc: 0.7771 - val_loss: 0.6996 - val_acc: 0.7639\n",
      "Epoch 46/200\n",
      "35000/35000 [==============================] - 630s - loss: 0.6493 - acc: 0.7798 - val_loss: 0.6817 - val_acc: 0.7732\n",
      "Epoch 47/200\n",
      "35000/35000 [==============================] - 630s - loss: 0.6532 - acc: 0.7791 - val_loss: 0.6780 - val_acc: 0.7791\n",
      "Epoch 48/200\n",
      "35000/35000 [==============================] - 485s - loss: 0.6411 - acc: 0.7831 - val_loss: 0.7203 - val_acc: 0.7613\n",
      "Epoch 49/200\n",
      "35000/35000 [==============================] - 410s - loss: 0.6351 - acc: 0.7852 - val_loss: 0.6827 - val_acc: 0.7777\n",
      "Epoch 53/200\n",
      "35000/35000 [==============================] - 409s - loss: 0.6301 - acc: 0.7876 - val_loss: 0.6767 - val_acc: 0.7753\n",
      "Epoch 54/200\n",
      "35000/35000 [==============================] - 409s - loss: 0.6268 - acc: 0.7890 - val_loss: 0.6772 - val_acc: 0.7811\n",
      "Epoch 55/200\n",
      "35000/35000 [==============================] - 413s - loss: 0.6242 - acc: 0.7883 - val_loss: 0.6740 - val_acc: 0.7782\n",
      "Epoch 56/200\n",
      "35000/35000 [==============================] - 412s - loss: 0.6277 - acc: 0.7903 - val_loss: 0.7062 - val_acc: 0.7687\n",
      "Epoch 57/200\n",
      "35000/35000 [==============================] - 414s - loss: 0.6175 - acc: 0.7905 - val_loss: 0.6644 - val_acc: 0.7793\n",
      "Epoch 59/200\n",
      "35000/35000 [==============================] - 419s - loss: 0.6179 - acc: 0.7909 - val_loss: 0.6821 - val_acc: 0.7743\n",
      "Epoch 60/200\n",
      "35000/35000 [==============================] - 416s - loss: 0.6156 - acc: 0.7942 - val_loss: 0.6735 - val_acc: 0.7783\n",
      "Epoch 61/200\n",
      "35000/35000 [==============================] - 414s - loss: 0.6207 - acc: 0.7913 - val_loss: 0.6803 - val_acc: 0.7803\n",
      "Epoch 62/200\n",
      "35000/35000 [==============================] - 409s - loss: 0.5955 - acc: 0.8025 - val_loss: 0.6690 - val_acc: 0.7823\n",
      "Epoch 81/200\n",
      "35000/35000 [==============================] - 408s - loss: 0.5878 - acc: 0.8044 - val_loss: 0.7478 - val_acc: 0.7680\n",
      "Epoch 82/200\n",
      "35000/35000 [==============================] - 408s - loss: 0.5842 - acc: 0.8050 - val_loss: 0.7549 - val_acc: 0.7683\n",
      "Epoch 83/200\n",
      "35000/35000 [==============================] - 410s - loss: 0.5847 - acc: 0.8046 - val_loss: 0.6950 - val_acc: 0.7743\n",
      "Epoch 84/200\n",
      "35000/35000 [==============================] - 408s - loss: 0.5886 - acc: 0.8014 - val_loss: 0.7165 - val_acc: 0.7657\n",
      "Epoch 85/200\n",
      "35000/35000 [==============================] - 407s - loss: 0.5866 - acc: 0.8056 - val_loss: 0.6464 - val_acc: 0.7899\n",
      "Epoch 86/200\n",
      "35000/35000 [==============================] - 406s - loss: 0.5874 - acc: 0.8035 - val_loss: 0.6933 - val_acc: 0.7854\n",
      "Epoch 87/200\n",
      "35000/35000 [==============================] - 409s - loss: 0.5885 - acc: 0.8044 - val_loss: 0.7515 - val_acc: 0.7709\n",
      "Epoch 88/200\n",
      "35000/35000 [==============================] - 407s - loss: 0.5860 - acc: 0.8041 - val_loss: 0.6965 - val_acc: 0.7775\n",
      "Epoch 89/200\n",
      "35000/35000 [==============================] - 407s - loss: 0.5787 - acc: 0.8068 - val_loss: 0.6974 - val_acc: 0.7773\n",
      "Epoch 90/200\n",
      "35000/35000 [==============================] - 405s - loss: 0.5843 - acc: 0.8060 - val_loss: 0.6667 - val_acc: 0.7865\n",
      "Epoch 91/200\n",
      "35000/35000 [==============================] - 406s - loss: 0.5807 - acc: 0.8054 - val_loss: 0.7163 - val_acc: 0.7729\n",
      "Epoch 94/200\n",
      "35000/35000 [==============================] - 406s - loss: 0.5823 - acc: 0.8053 - val_loss: 0.6562 - val_acc: 0.7896\n",
      "Epoch 95/200\n",
      "35000/35000 [==============================] - 408s - loss: 0.5777 - acc: 0.8076 - val_loss: 0.6696 - val_acc: 0.7835\n",
      "Epoch 96/200\n",
      "35000/35000 [==============================] - 407s - loss: 0.5765 - acc: 0.8070 - val_loss: 0.6748 - val_acc: 0.7820\n",
      "Epoch 97/200\n",
      "35000/35000 [==============================] - 407s - loss: 0.5777 - acc: 0.8083 - val_loss: 0.6689 - val_acc: 0.7809\n",
      "Epoch 98/200\n",
      "35000/35000 [==============================] - 406s - loss: 0.5685 - acc: 0.8118 - val_loss: 0.7223 - val_acc: 0.7647\n",
      "Epoch 99/200\n",
      "35000/35000 [==============================] - 409s - loss: 0.5808 - acc: 0.8085 - val_loss: 0.6921 - val_acc: 0.7837\n",
      "Epoch 100/200\n",
      "35000/35000 [==============================] - 409s - loss: 0.5733 - acc: 0.8090 - val_loss: 0.6714 - val_acc: 0.7889\n",
      "Epoch 101/200\n",
      "35000/35000 [==============================] - 407s - loss: 0.5756 - acc: 0.8081 - val_loss: 0.6620 - val_acc: 0.7881\n",
      "Epoch 102/200\n",
      "35000/35000 [==============================] - 407s - loss: 0.5767 - acc: 0.8084 - val_loss: 0.6653 - val_acc: 0.7831\n",
      "Epoch 103/200\n",
      "35000/35000 [==============================] - 407s - loss: 0.5769 - acc: 0.8096 - val_loss: 0.7371 - val_acc: 0.7661\n",
      "Epoch 104/200\n",
      "35000/35000 [==============================] - 407s - loss: 0.5673 - acc: 0.8137 - val_loss: 0.6936 - val_acc: 0.7782\n",
      "Epoch 105/200\n",
      "35000/35000 [==============================] - 409s - loss: 0.5805 - acc: 0.8076 - val_loss: 0.7006 - val_acc: 0.7806\n",
      "Epoch 106/200\n",
      "35000/35000 [==============================] - 408s - loss: 0.5779 - acc: 0.8084 - val_loss: 0.7002 - val_acc: 0.7724\n",
      "Epoch 107/200\n",
      "35000/35000 [==============================] - 412s - loss: 0.5719 - acc: 0.8085 - val_loss: 0.7165 - val_acc: 0.7789\n",
      "Epoch 108/200\n",
      "35000/35000 [==============================] - 409s - loss: 0.5682 - acc: 0.8119 - val_loss: 0.6881 - val_acc: 0.7797\n",
      "Epoch 109/200\n",
      "35000/35000 [==============================] - 408s - loss: 0.5736 - acc: 0.8086 - val_loss: 0.6647 - val_acc: 0.7866\n",
      "Epoch 110/200\n"
     ]
    },
    {
     "name": "stdout",
     "output_type": "stream",
     "text": [
      "35000/35000 [==============================] - 406s - loss: 0.5728 - acc: 0.8087 - val_loss: 0.6813 - val_acc: 0.7866\n",
      "Epoch 111/200\n",
      "35000/35000 [==============================] - 407s - loss: 0.5678 - acc: 0.8127 - val_loss: 0.6927 - val_acc: 0.7804\n",
      "Epoch 112/200\n",
      "35000/35000 [==============================] - 407s - loss: 0.5632 - acc: 0.8121 - val_loss: 0.6775 - val_acc: 0.7814\n",
      "Epoch 113/200\n",
      "35000/35000 [==============================] - 406s - loss: 0.5789 - acc: 0.8094 - val_loss: 0.6520 - val_acc: 0.7902\n",
      "Epoch 114/200\n",
      "35000/35000 [==============================] - 407s - loss: 0.5644 - acc: 0.8128 - val_loss: 0.6772 - val_acc: 0.7823\n",
      "Epoch 115/200\n",
      "35000/35000 [==============================] - 412s - loss: 0.5710 - acc: 0.8091 - val_loss: 0.7192 - val_acc: 0.7719\n",
      "Epoch 116/200\n",
      "35000/35000 [==============================] - 411s - loss: 0.5716 - acc: 0.8119 - val_loss: 0.7183 - val_acc: 0.7750\n",
      "Epoch 117/200\n",
      "35000/35000 [==============================] - 411s - loss: 0.5787 - acc: 0.8095 - val_loss: 0.7146 - val_acc: 0.7721\n",
      "Epoch 118/200\n",
      "35000/35000 [==============================] - 413s - loss: 0.5690 - acc: 0.8122 - val_loss: 0.7081 - val_acc: 0.7696\n",
      "Epoch 119/200\n",
      "35000/35000 [==============================] - 410s - loss: 0.5732 - acc: 0.8118 - val_loss: 0.7305 - val_acc: 0.7646\n",
      "Epoch 121/200\n",
      "35000/35000 [==============================] - 412s - loss: 0.5694 - acc: 0.8110 - val_loss: 0.7069 - val_acc: 0.7837\n",
      "Epoch 124/200\n",
      "35000/35000 [==============================] - 411s - loss: 0.5773 - acc: 0.8110 - val_loss: 0.6690 - val_acc: 0.7902\n",
      "Epoch 125/200\n",
      "35000/35000 [==============================] - 412s - loss: 0.5747 - acc: 0.8101 - val_loss: 0.7446 - val_acc: 0.7719\n",
      "Epoch 126/200\n",
      "35000/35000 [==============================] - 411s - loss: 0.5715 - acc: 0.8119 - val_loss: 0.7150 - val_acc: 0.7785\n",
      "Epoch 127/200\n",
      "35000/35000 [==============================] - 412s - loss: 0.5719 - acc: 0.8122 - val_loss: 0.7215 - val_acc: 0.7691\n",
      "Epoch 128/200\n",
      "35000/35000 [==============================] - 414s - loss: 0.5717 - acc: 0.8112 - val_loss: 0.7206 - val_acc: 0.7778\n",
      "Epoch 129/200\n",
      "35000/35000 [==============================] - 411s - loss: 0.5656 - acc: 0.8102 - val_loss: 0.7271 - val_acc: 0.7731\n",
      "Epoch 130/200\n",
      "35000/35000 [==============================] - 411s - loss: 0.5660 - acc: 0.8144 - val_loss: 0.7065 - val_acc: 0.7731\n",
      "Epoch 131/200\n",
      "35000/35000 [==============================] - 411s - loss: 0.5684 - acc: 0.8141 - val_loss: 0.7082 - val_acc: 0.7797\n",
      "Epoch 132/200\n",
      "35000/35000 [==============================] - 413s - loss: 0.5770 - acc: 0.8104 - val_loss: 0.7739 - val_acc: 0.7557\n",
      "Epoch 133/200\n",
      " 6784/35000 [====>.........................] - ETA: 296s - loss: 0.5589 - acc: 0.8129"
     ]
    }
   ],
   "source": [
    "history = cnn.fit(X_train, y_train,\n",
    "    batch_size=batch_size,\n",
    "    epochs=epochs,\n",
    "    validation_split=.3,\n",
    "    shuffle=True)"
   ]
  },
  {
   "cell_type": "code",
   "execution_count": null,
   "metadata": {
    "collapsed": true
   },
   "outputs": [],
   "source": [
    "# Save model and weights\n",
    "if not os.path.isdir(save_dir):\n",
    "    os.makedirs(save_dir)\n",
    "model_path = os.path.join(save_dir, model_name)\n",
    "cnn.save(model_path)"
   ]
  },
  {
   "cell_type": "code",
   "execution_count": 12,
   "metadata": {},
   "outputs": [
    {
     "name": "stdout",
     "output_type": "stream",
     "text": [
      "10000/10000 [==============================] - 32s    \n"
     ]
    },
    {
     "data": {
      "text/plain": [
       "[0.73282062711715701, 0.76680000000000004]"
      ]
     },
     "execution_count": 12,
     "metadata": {},
     "output_type": "execute_result"
    }
   ],
   "source": [
    "cnn.evaluate(X_test,y_test)"
   ]
  },
  {
   "cell_type": "code",
   "execution_count": 16,
   "metadata": {},
   "outputs": [
    {
     "data": {
      "text/plain": [
       "keras.callbacks.History"
      ]
     },
     "execution_count": 16,
     "metadata": {},
     "output_type": "execute_result"
    }
   ],
   "source": [
    "type(history)"
   ]
  },
  {
   "cell_type": "code",
   "execution_count": 23,
   "metadata": {},
   "outputs": [
    {
     "data": {
      "text/plain": [
       "['acc', 'loss', 'val_acc', 'val_loss']"
      ]
     },
     "execution_count": 23,
     "metadata": {},
     "output_type": "execute_result"
    }
   ],
   "source": [
    "history.history.keys()"
   ]
  },
  {
   "cell_type": "code",
   "execution_count": 15,
   "metadata": {},
   "outputs": [
    {
     "ename": "AttributeError",
     "evalue": "'str' object has no attribute 'write'",
     "output_type": "error",
     "traceback": [
      "\u001b[0;31m\u001b[0m",
      "\u001b[0;31mAttributeError\u001b[0mTraceback (most recent call last)",
      "\u001b[0;32m<ipython-input-15-0e01dfaa179f>\u001b[0m in \u001b[0;36m<module>\u001b[0;34m()\u001b[0m\n\u001b[1;32m      3\u001b[0m     \u001b[0mos\u001b[0m\u001b[0;34m.\u001b[0m\u001b[0mmakedirs\u001b[0m\u001b[0;34m(\u001b[0m\u001b[0msave_dir\u001b[0m\u001b[0;34m)\u001b[0m\u001b[0;34m\u001b[0m\u001b[0m\n\u001b[1;32m      4\u001b[0m \u001b[0mhist_path\u001b[0m \u001b[0;34m=\u001b[0m \u001b[0mos\u001b[0m\u001b[0;34m.\u001b[0m\u001b[0mpath\u001b[0m\u001b[0;34m.\u001b[0m\u001b[0mjoin\u001b[0m\u001b[0;34m(\u001b[0m\u001b[0msave_dir\u001b[0m\u001b[0;34m,\u001b[0m \u001b[0mhist_name\u001b[0m\u001b[0;34m)\u001b[0m\u001b[0;34m\u001b[0m\u001b[0m\n\u001b[0;32m----> 5\u001b[0;31m \u001b[0mpickle\u001b[0m\u001b[0;34m.\u001b[0m\u001b[0mdump\u001b[0m\u001b[0;34m(\u001b[0m \u001b[0mhistory\u001b[0m\u001b[0;34m,\u001b[0m \u001b[0mhist_name\u001b[0m\u001b[0;34m)\u001b[0m\u001b[0;34m\u001b[0m\u001b[0m\n\u001b[0m",
      "\u001b[0;32m/usr/lib/python2.7/pickle.pyc\u001b[0m in \u001b[0;36mdump\u001b[0;34m(obj, file, protocol)\u001b[0m\n\u001b[1;32m   1374\u001b[0m \u001b[0;34m\u001b[0m\u001b[0m\n\u001b[1;32m   1375\u001b[0m \u001b[0;32mdef\u001b[0m \u001b[0mdump\u001b[0m\u001b[0;34m(\u001b[0m\u001b[0mobj\u001b[0m\u001b[0;34m,\u001b[0m \u001b[0mfile\u001b[0m\u001b[0;34m,\u001b[0m \u001b[0mprotocol\u001b[0m\u001b[0;34m=\u001b[0m\u001b[0mNone\u001b[0m\u001b[0;34m)\u001b[0m\u001b[0;34m:\u001b[0m\u001b[0;34m\u001b[0m\u001b[0m\n\u001b[0;32m-> 1376\u001b[0;31m     \u001b[0mPickler\u001b[0m\u001b[0;34m(\u001b[0m\u001b[0mfile\u001b[0m\u001b[0;34m,\u001b[0m \u001b[0mprotocol\u001b[0m\u001b[0;34m)\u001b[0m\u001b[0;34m.\u001b[0m\u001b[0mdump\u001b[0m\u001b[0;34m(\u001b[0m\u001b[0mobj\u001b[0m\u001b[0;34m)\u001b[0m\u001b[0;34m\u001b[0m\u001b[0m\n\u001b[0m\u001b[1;32m   1377\u001b[0m \u001b[0;34m\u001b[0m\u001b[0m\n\u001b[1;32m   1378\u001b[0m \u001b[0;32mdef\u001b[0m \u001b[0mdumps\u001b[0m\u001b[0;34m(\u001b[0m\u001b[0mobj\u001b[0m\u001b[0;34m,\u001b[0m \u001b[0mprotocol\u001b[0m\u001b[0;34m=\u001b[0m\u001b[0mNone\u001b[0m\u001b[0;34m)\u001b[0m\u001b[0;34m:\u001b[0m\u001b[0;34m\u001b[0m\u001b[0m\n",
      "\u001b[0;32m/usr/lib/python2.7/pickle.pyc\u001b[0m in \u001b[0;36m__init__\u001b[0;34m(self, file, protocol)\u001b[0m\n\u001b[1;32m    201\u001b[0m         \u001b[0;32melif\u001b[0m \u001b[0;32mnot\u001b[0m \u001b[0;36m0\u001b[0m \u001b[0;34m<=\u001b[0m \u001b[0mprotocol\u001b[0m \u001b[0;34m<=\u001b[0m \u001b[0mHIGHEST_PROTOCOL\u001b[0m\u001b[0;34m:\u001b[0m\u001b[0;34m\u001b[0m\u001b[0m\n\u001b[1;32m    202\u001b[0m             \u001b[0;32mraise\u001b[0m \u001b[0mValueError\u001b[0m\u001b[0;34m(\u001b[0m\u001b[0;34m\"pickle protocol must be <= %d\"\u001b[0m \u001b[0;34m%\u001b[0m \u001b[0mHIGHEST_PROTOCOL\u001b[0m\u001b[0;34m)\u001b[0m\u001b[0;34m\u001b[0m\u001b[0m\n\u001b[0;32m--> 203\u001b[0;31m         \u001b[0mself\u001b[0m\u001b[0;34m.\u001b[0m\u001b[0mwrite\u001b[0m \u001b[0;34m=\u001b[0m \u001b[0mfile\u001b[0m\u001b[0;34m.\u001b[0m\u001b[0mwrite\u001b[0m\u001b[0;34m\u001b[0m\u001b[0m\n\u001b[0m\u001b[1;32m    204\u001b[0m         \u001b[0mself\u001b[0m\u001b[0;34m.\u001b[0m\u001b[0mmemo\u001b[0m \u001b[0;34m=\u001b[0m \u001b[0;34m{\u001b[0m\u001b[0;34m}\u001b[0m\u001b[0;34m\u001b[0m\u001b[0m\n\u001b[1;32m    205\u001b[0m         \u001b[0mself\u001b[0m\u001b[0;34m.\u001b[0m\u001b[0mproto\u001b[0m \u001b[0;34m=\u001b[0m \u001b[0mint\u001b[0m\u001b[0;34m(\u001b[0m\u001b[0mprotocol\u001b[0m\u001b[0;34m)\u001b[0m\u001b[0;34m\u001b[0m\u001b[0m\n",
      "\u001b[0;31mAttributeError\u001b[0m: 'str' object has no attribute 'write'"
     ]
    }
   ],
   "source": [
    "import pickle\n",
    "hist_name = '3_cnn_history'\n",
    "if not os.path.isdir(save_dir):\n",
    "    os.makedirs(save_dir)\n",
    "hist_path = os.path.join(save_dir, hist_name)\n",
    "pickle.dump( history, )\n"
   ]
  },
  {
   "cell_type": "code",
   "execution_count": 20,
   "metadata": {
    "collapsed": true
   },
   "outputs": [],
   "source": [
    "import matplotlib.pyplot as plt"
   ]
  },
  {
   "cell_type": "code",
   "execution_count": 21,
   "metadata": {},
   "outputs": [
    {
     "data": {
      "text/plain": [
       "['acc', 'loss', 'val_acc', 'val_loss']"
      ]
     },
     "execution_count": 21,
     "metadata": {},
     "output_type": "execute_result"
    }
   ],
   "source": [
    "history.history.keys()"
   ]
  },
  {
   "cell_type": "code",
   "execution_count": 19,
   "metadata": {},
   "outputs": [
    {
     "data": {
      "text/plain": [
       "<matplotlib.legend.Legend at 0x7fa6140e7690>"
      ]
     },
     "execution_count": 19,
     "metadata": {},
     "output_type": "execute_result"
    },
    {
     "data": {
      "image/png": "[encoded data removed]",
      "text/plain": [
       "<matplotlib.figure.Figure at 0x7fa63b914d90>"
      ]
     },
     "metadata": {},
     "output_type": "display_data"
    }
   ],
   "source": [
    "%matplotlib inline\n",
    "plt.plot(history.history['loss'])\n",
    "plt.plot(history.history['val_loss'])\n",
    "plt.title('model loss')\n",
    "plt.ylabel('loss')\n",
    "plt.xlabel('epoch')\n",
    "plt.legend(['train', 'validation'], loc='upper left')"
   ]
  },
  {
   "cell_type": "code",
   "execution_count": 22,
   "metadata": {},
   "outputs": [
    {
     "data": {
      "text/plain": [
       "<matplotlib.legend.Legend at 0x7fa5dc2ddb50>"
      ]
     },
     "execution_count": 22,
     "metadata": {},
     "output_type": "execute_result"
    },
    {
     "data": {
      "image/png": "[encoded data removed]",
      "text/plain": [
       "<matplotlib.figure.Figure at 0x7fa63b914810>"
      ]
     },
     "metadata": {},
     "output_type": "display_data"
    }
   ],
   "source": [
    "plt.plot(history.history['acc'])\n",
    "plt.plot(history.history['val_acc'])\n",
    "plt.title('model accuracy')\n",
    "plt.ylabel('accuracy')\n",
    "plt.xlabel('epoch')\n",
    "plt.legend(['train', 'validation'], loc='upper left')"
   ]
  },
  {
   "cell_type": "code",
   "execution_count": 1,
   "metadata": {},
   "outputs": [
    {
     "ename": "NameError",
     "evalue": "name 'history' is not defined",
     "output_type": "error",
     "traceback": [
      "\u001b[0;31m\u001b[0m",
      "\u001b[0;31mNameError\u001b[0mTraceback (most recent call last)",
      "\u001b[0;32m<ipython-input-1-8385fbee689f>\u001b[0m in \u001b[0;36m<module>\u001b[0;34m()\u001b[0m\n\u001b[0;32m----> 1\u001b[0;31m \u001b[0maccuracy\u001b[0m \u001b[0;34m=\u001b[0m \u001b[0mhistory\u001b[0m\u001b[0;34m.\u001b[0m\u001b[0mhistory\u001b[0m\u001b[0;34m[\u001b[0m\u001b[0;34m'acc'\u001b[0m\u001b[0;34m]\u001b[0m\u001b[0;34m\u001b[0m\u001b[0m\n\u001b[0m\u001b[1;32m      2\u001b[0m \u001b[0mval_accuracy\u001b[0m \u001b[0;34m=\u001b[0m \u001b[0mhistory\u001b[0m\u001b[0;34m.\u001b[0m\u001b[0mhistory\u001b[0m\u001b[0;34m[\u001b[0m\u001b[0;34m'val_acc'\u001b[0m\u001b[0;34m]\u001b[0m\u001b[0;34m\u001b[0m\u001b[0m\n\u001b[1;32m      3\u001b[0m \u001b[0mloss\u001b[0m \u001b[0;34m=\u001b[0m \u001b[0mhistory\u001b[0m\u001b[0;34m.\u001b[0m\u001b[0mhistory\u001b[0m\u001b[0;34m[\u001b[0m\u001b[0;34m'loss'\u001b[0m\u001b[0;34m]\u001b[0m\u001b[0;34m\u001b[0m\u001b[0m\n\u001b[1;32m      4\u001b[0m \u001b[0mval_loss\u001b[0m \u001b[0;34m=\u001b[0m \u001b[0mhistory\u001b[0m\u001b[0;34m.\u001b[0m\u001b[0mhistory\u001b[0m\u001b[0;34m[\u001b[0m\u001b[0;34m'val_loss'\u001b[0m\u001b[0;34m]\u001b[0m\u001b[0;34m\u001b[0m\u001b[0m\n\u001b[1;32m      5\u001b[0m \u001b[0;32mwith\u001b[0m \u001b[0mopen\u001b[0m\u001b[0;34m(\u001b[0m\u001b[0;34m'accuracy_3_CNN_fchallot.pickle'\u001b[0m\u001b[0;34m,\u001b[0m \u001b[0;34m'wb'\u001b[0m\u001b[0;34m)\u001b[0m \u001b[0;32mas\u001b[0m \u001b[0mhandle\u001b[0m\u001b[0;34m:\u001b[0m\u001b[0;34m\u001b[0m\u001b[0m\n",
      "\u001b[0;31mNameError\u001b[0m: name 'history' is not defined"
     ]
    }
   ],
   "source": [
    "accuracy = history.history['acc']\n",
    "val_accuracy = history.history['val_acc']\n",
    "loss = history.history['loss']\n",
    "val_loss = history.history['val_loss']\n",
    "with open('3_cnn_accuracy.pickle', 'wb') as handle:\n",
    "    pickle.dump(accuracy, handle, protocol=pickle.HIGHEST_PROTOCOL)\n",
    "\n",
    "# with open('filename.pickle', 'rb') as handle:\n",
    "#     b = pickle.load(handle)\n",
    "\n",
    "with open('3_cnn_accuracy_val.pickle', 'wb') as handle:\n",
    "    pickle.dump(val_accuracy, handle, protocol=pickle.HIGHEST_PROTOCOL)\n",
    "\n",
    "# with open('filename.pickle', 'rb') as handle:\n",
    "#     b = pickle.load(handle)\n",
    "with open('3_cnn_loss.pickle', 'wb') as handle:\n",
    "    pickle.dump(loss, handle, protocol=pickle.HIGHEST_PROTOCOL)\n",
    "\n",
    "# with open('filename.pickle', 'rb') as handle:\n",
    "#     b = pickle.load(handle)\n",
    "\n",
    "with open('3_cnn_loss_val.pickle', 'wb') as handle:\n",
    "    pickle.dump(val_loss, handle, protocol=pickle.HIGHEST_PROTOCOL)\n",
    "\n",
    "# with open('filename.pickle', 'rb') as handle:\n",
    "#     b = pickle.load(handle)"
   ]
  },
  {
   "cell_type": "code",
   "execution_count": null,
   "metadata": {
    "collapsed": true
   },
   "outputs": [],
   "source": []
  }
 ],
 "metadata": {
  "kernelspec": {
   "display_name": "Python 3",
   "language": "python",
   "name": "python3"
  },
  "language_info": {
   "codemirror_mode": {
    "name": "ipython",
    "version": 3
   },
   "file_extension": ".py",
   "mimetype": "text/x-python",
   "name": "python",
   "nbconvert_exporter": "python",
   "pygments_lexer": "ipython3",
   "version": "3.6.2"
  }
 },
 "nbformat": 4,
 "nbformat_minor": 2
}
